{
 "cells": [
  {
   "cell_type": "code",
   "execution_count": 1,
   "metadata": {},
   "outputs": [],
   "source": [
    "from sklearn.linear_model import LogisticRegression\n",
    "from sklearn.model_selection import train_test_split\n",
    "import pandas as pd\n",
    "import numpy as np \n",
    "import yfinance as yf\n",
    "import time\n",
    "#https://stackoverflow.com/questions/14463277/how-to-disable-python-warnings\n",
    "import warnings\n",
    "warnings.filterwarnings(\"ignore\")"
   ]
  },
  {
   "cell_type": "code",
   "execution_count": 2,
   "metadata": {},
   "outputs": [],
   "source": [
    "nvidia = yf.Ticker('NVDA')\n",
    "test = nvidia.history( interval='5m')"
   ]
  },
  {
   "cell_type": "code",
   "execution_count": 3,
   "metadata": {},
   "outputs": [
    {
     "name": "stdout",
     "output_type": "stream",
     "text": [
      "<class 'pandas.core.frame.DataFrame'>\n",
      "DatetimeIndex: 1472 entries, 2020-12-28 09:30:00-05:00 to 2021-01-25 15:15:19-05:00\n",
      "Data columns (total 7 columns):\n",
      " #   Column        Non-Null Count  Dtype  \n",
      "---  ------        --------------  -----  \n",
      " 0   Open          1472 non-null   float64\n",
      " 1   High          1472 non-null   float64\n",
      " 2   Low           1472 non-null   float64\n",
      " 3   Close         1472 non-null   float64\n",
      " 4   Volume        1472 non-null   int64  \n",
      " 5   Dividends     1472 non-null   int64  \n",
      " 6   Stock Splits  1472 non-null   int64  \n",
      "dtypes: float64(4), int64(3)\n",
      "memory usage: 92.0 KB\n"
     ]
    }
   ],
   "source": [
    "test.info()"
   ]
  },
  {
   "cell_type": "code",
   "execution_count": 6,
   "metadata": {},
   "outputs": [],
   "source": [
    "def price_mage(ticker):\n",
    "    while int(time.asctime().split()[3].replace(':','')) < 163000:\n",
    "        test =  yf.download(tickers= ticker,interval ='5m',period = '1mo')\n",
    "        print(test.shape)\n",
    "        #zip learned: https://stackoverflow.com/questions/1663807/how-to-iterate-through-two-lists-in-parallel\n",
    "        obv = []\n",
    "        prev = 0\n",
    "        obv_num = 0 \n",
    "        for close,volume in  zip(test['Close'], test['Volume']):\n",
    "            if close> prev:\n",
    "                obv_num += volume\n",
    "                prev = close\n",
    "                obv.append(obv_num)\n",
    "            elif close < prev:\n",
    "                obv_num -= volume\n",
    "                prev = close \n",
    "                obv.append(obv_num)\n",
    "            else:\n",
    "                obv.append(obv_num)\n",
    "\n",
    "\n",
    "        test['OBV'] = obv\n",
    "\n",
    "        prev = 0\n",
    "        Buy = []\n",
    "        for close in test['Close']:\n",
    "            if close > prev:\n",
    "                Buy.append(1)\n",
    "                prev = close \n",
    "            elif close <= prev:\n",
    "                Buy.append(0)\n",
    "                prev = close\n",
    "        test['Buy'] = Buy\n",
    "\n",
    "        test['Rolling_hour_average'] =test['Close'].rolling(12).mean()\n",
    "\n",
    "        test['Above_average'] = [1 if close > average else 0 for close,average in zip(test['Close'],test['Rolling_hour_average'])]\n",
    "\n",
    "        #Code and library adapted from https://blog.quantinsti.com/adx-indicator-python/\n",
    "        high_low = []\n",
    "        abs_high_prev = []\n",
    "        abs_low_prev = []\n",
    "        prev = 0\n",
    "        print(test.shape)\n",
    "        for close,high,low in zip(test['Close'],test['High'],test['Low']):\n",
    "            high_low.append(abs(high-low))\n",
    "            abs_high_prev.append(abs(high-prev))\n",
    "            abs_low_prev.append(abs(low-prev))\n",
    "            prev = close \n",
    "        from ta.trend import ADXIndicator\n",
    "        print(test.shape)\n",
    "        test['high_low'] = high_low\n",
    "        test['abs_high_prev'] = abs_high_prev\n",
    "        test['abs_low_prev'] = abs_low_prev\n",
    "        print(test.shape)\n",
    "        adx = ADXIndicator(test['high_low'],test['abs_high_prev'],test['abs_low_prev'])\n",
    "        test['adx'] = adx.adx()\n",
    "        test.drop(columns= ['high_low','abs_high_prev','abs_low_prev'], inplace = True)\n",
    "\n",
    "        #https://technical-analysis-library-in-python.readthedocs.io/en/latest/ta.html\n",
    "        from ta.trend import AroonIndicator\n",
    "        aroon = AroonIndicator(test['Close'])\n",
    "        test['Aroon_Indicator'] = aroon.aroon_indicator()\n",
    "\n",
    "        from ta.trend import MACD\n",
    "        Macd = MACD(test['Close'])\n",
    "        test['MACD'] = Macd.macd()\n",
    "\n",
    "        test.dropna(inplace = True)\n",
    "\n",
    "\n",
    "        features = ['Close','OBV','Rolling_hour_average','Above_average','adx','Aroon_Indicator','MACD']\n",
    "        X = test[features]\n",
    "        y = test['Buy'].shift(-1)\n",
    "        X_train, X_test, y_train, y_test = train_test_split(X,y, train_size=.7, random_state = 6)\n",
    "        model = LogisticRegression()\n",
    "        model.fit(X_train,y_train)\n",
    "        print(f' Model Score for {time.asctime()}: {model.score(X_test,y_test)}')\n",
    "        time.sleep(30)"
   ]
  },
  {
   "cell_type": "code",
   "execution_count": null,
   "metadata": {},
   "outputs": [],
   "source": [
    "test.tail()"
   ]
  },
  {
   "cell_type": "code",
   "execution_count": null,
   "metadata": {},
   "outputs": [],
   "source": [
    "features = ['Close','OBV','Rolling_hour_average','Above_average','adx','Aroon_Indicator','MACD']\n",
    "X = test[features]\n",
    "y = test['Buy']\n",
    "X_train, X_test, y_train, y_test = train_test_split(X,y, train_size=.7, random_state = 6)"
   ]
  },
  {
   "cell_type": "code",
   "execution_count": 8,
   "metadata": {},
   "outputs": [
    {
     "data": {
      "text/plain": [
       "0.5222222222222223"
      ]
     },
     "execution_count": 8,
     "metadata": {},
     "output_type": "execute_result"
    }
   ],
   "source": [
    "model = LogisticRegression()\n",
    "model.fit(X_train,y_train)\n",
    "model.score(X_test,y_test)"
   ]
  },
  {
   "cell_type": "code",
   "execution_count": null,
   "metadata": {},
   "outputs": [],
   "source": []
  }
 ],
 "metadata": {
  "kernelspec": {
   "display_name": "Python 3",
   "language": "python",
   "name": "python3"
  },
  "language_info": {
   "codemirror_mode": {
    "name": "ipython",
    "version": 3
   },
   "file_extension": ".py",
   "mimetype": "text/x-python",
   "name": "python",
   "nbconvert_exporter": "python",
   "pygments_lexer": "ipython3",
   "version": "3.8.3"
  }
 },
 "nbformat": 4,
 "nbformat_minor": 4
}
