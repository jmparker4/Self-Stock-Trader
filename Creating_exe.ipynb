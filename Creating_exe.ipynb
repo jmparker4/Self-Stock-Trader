{
 "cells": [
  {
   "cell_type": "code",
   "execution_count": null,
   "metadata": {},
   "outputs": [],
   "source": [
    "#All of this was adapted from the https://datatofish.com/executable-pyinstaller/\n",
    "import tkinter as tk\n",
    "\n",
    "root = tk.Tk()\n",
    "canvas1 = tk.Canvas(root,width=300,height = 300)\n",
    "canvas1.pack\n",
    "def hello():\n",
    "    label1 = tk.Label(root, text='Hello World!',fg='green',font=('helvetica', 12, 'bold'))\n",
    "    canvas1.create_window(150, 200, window=label1)\n",
    "    \n",
    "button1 = tk.Button(text='Click Me', command=hello, bg='brown',fg='white')\n",
    "canvas1.create_window(150,150,window=button1)\n",
    "root.mainloop()"
   ]
  }
 ],
 "metadata": {
  "kernelspec": {
   "display_name": "Python 3",
   "language": "python",
   "name": "python3"
  },
  "language_info": {
   "codemirror_mode": {
    "name": "ipython",
    "version": 3
   },
   "file_extension": ".py",
   "mimetype": "text/x-python",
   "name": "python",
   "nbconvert_exporter": "python",
   "pygments_lexer": "ipython3",
   "version": "3.8.3"
  }
 },
 "nbformat": 4,
 "nbformat_minor": 4
}
